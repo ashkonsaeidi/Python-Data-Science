{
 "cells": [
  {
   "cell_type": "markdown",
   "id": "3ea5bd66",
   "metadata": {},
   "source": [
    "<details><summary style=\"display:list-item; font-size:16px; color:blue;\">Jupyter Help</summary>\n",
    "    \n",
    "Having trouble testing your work? Double-check that you have followed the steps below to write, run, save, and test your code!\n",
    "    \n",
    "[Click here for a walkthrough GIF of the steps below](https://static-assets.codecademy.com/Courses/ds-python/jupyter-help.gif)\n",
    "\n",
    "Run all initial cells to import libraries and datasets. Then follow these steps for each question:\n",
    "    \n",
    "1. Add your solution to the cell with `## YOUR SOLUTION HERE ## `.\n",
    "2. Run the cell by selecting the `Run` button or the `Shift`+`Enter` keys.\n",
    "3. Save your work by selecting the `Save` button, the `command`+`s` keys (Mac), or `control`+`s` keys (Windows).\n",
    "4. Select the `Test Work` button at the bottom left to test your work.\n",
    "\n",
    "![Screenshot of the buttons at the top of a Jupyter Notebook. The Run and Save buttons are highlighted](https://static-assets.codecademy.com/Paths/ds-python/jupyter-buttons.png)"
   ]
  },
  {
   "cell_type": "markdown",
   "id": "4c609b12",
   "metadata": {},
   "source": [
    "Setup"
   ]
  },
  {
   "cell_type": "code",
   "execution_count": 1,
   "id": "047d9dc9",
   "metadata": {
    "deletable": false,
    "tags": [
     "setup"
    ]
   },
   "outputs": [
    {
     "data": {
      "text/html": [
       "<div>\n",
       "<style scoped>\n",
       "    .dataframe tbody tr th:only-of-type {\n",
       "        vertical-align: middle;\n",
       "    }\n",
       "\n",
       "    .dataframe tbody tr th {\n",
       "        vertical-align: top;\n",
       "    }\n",
       "\n",
       "    .dataframe thead th {\n",
       "        text-align: right;\n",
       "    }\n",
       "</style>\n",
       "<table border=\"1\" class=\"dataframe\">\n",
       "  <thead>\n",
       "    <tr style=\"text-align: right;\">\n",
       "      <th></th>\n",
       "      <th>id</th>\n",
       "      <th>model</th>\n",
       "      <th>year</th>\n",
       "      <th>transmission</th>\n",
       "      <th>manufacturer</th>\n",
       "      <th>vehicle_type</th>\n",
       "      <th>fuel</th>\n",
       "      <th>fuel_configuration</th>\n",
       "      <th>best_mpge</th>\n",
       "    </tr>\n",
       "  </thead>\n",
       "  <tbody>\n",
       "    <tr>\n",
       "      <th>0</th>\n",
       "      <td>12988</td>\n",
       "      <td>amg e53 4matic+ (convertible)</td>\n",
       "      <td>2022</td>\n",
       "      <td>auto</td>\n",
       "      <td>mercedes-benz</td>\n",
       "      <td>sedan/wagon</td>\n",
       "      <td>hybrid electric</td>\n",
       "      <td>hybrid electric</td>\n",
       "      <td>28.0</td>\n",
       "    </tr>\n",
       "    <tr>\n",
       "      <th>1</th>\n",
       "      <td>689</td>\n",
       "      <td>avalanche ffv</td>\n",
       "      <td>2007</td>\n",
       "      <td>auto</td>\n",
       "      <td>chevrolet</td>\n",
       "      <td>pickup</td>\n",
       "      <td>ethanol (e85)</td>\n",
       "      <td>flexible fuel</td>\n",
       "      <td>21.0</td>\n",
       "    </tr>\n",
       "    <tr>\n",
       "      <th>2</th>\n",
       "      <td>950</td>\n",
       "      <td>impala</td>\n",
       "      <td>2010</td>\n",
       "      <td>auto</td>\n",
       "      <td>chevrolet</td>\n",
       "      <td>sedan/wagon</td>\n",
       "      <td>ethanol (e85)</td>\n",
       "      <td>flexible fuel</td>\n",
       "      <td>29.0</td>\n",
       "    </tr>\n",
       "    <tr>\n",
       "      <th>3</th>\n",
       "      <td>250</td>\n",
       "      <td>yukon xl ffv</td>\n",
       "      <td>2004</td>\n",
       "      <td>auto</td>\n",
       "      <td>gmc</td>\n",
       "      <td>suv</td>\n",
       "      <td>ethanol (e85)</td>\n",
       "      <td>flexible fuel</td>\n",
       "      <td>18.0</td>\n",
       "    </tr>\n",
       "    <tr>\n",
       "      <th>4</th>\n",
       "      <td>13089</td>\n",
       "      <td>sf90 spyder</td>\n",
       "      <td>2022</td>\n",
       "      <td>auto</td>\n",
       "      <td>ferrari</td>\n",
       "      <td>sedan/wagon</td>\n",
       "      <td>plug-in hybrid electric</td>\n",
       "      <td>hybrid electric</td>\n",
       "      <td>19.0</td>\n",
       "    </tr>\n",
       "  </tbody>\n",
       "</table>\n",
       "</div>"
      ],
      "text/plain": [
       "      id                          model  year transmission   manufacturer  \\\n",
       "0  12988  amg e53 4matic+ (convertible)  2022         auto  mercedes-benz   \n",
       "1    689                  avalanche ffv  2007         auto      chevrolet   \n",
       "2    950                         impala  2010         auto      chevrolet   \n",
       "3    250                   yukon xl ffv  2004         auto            gmc   \n",
       "4  13089                    sf90 spyder  2022         auto        ferrari   \n",
       "\n",
       "  vehicle_type                     fuel fuel_configuration  best_mpge  \n",
       "0  sedan/wagon          hybrid electric    hybrid electric       28.0  \n",
       "1       pickup            ethanol (e85)      flexible fuel       21.0  \n",
       "2  sedan/wagon            ethanol (e85)      flexible fuel       29.0  \n",
       "3          suv            ethanol (e85)      flexible fuel       18.0  \n",
       "4  sedan/wagon  plug-in hybrid electric    hybrid electric       19.0  "
      ]
     },
     "execution_count": 1,
     "metadata": {},
     "output_type": "execute_result"
    }
   ],
   "source": [
    "import pandas as pd\n",
    "vehicles = pd.read_csv('vehicles.csv')\n",
    "vehicles.head()"
   ]
  },
  {
   "cell_type": "markdown",
   "id": "079e0e0c",
   "metadata": {},
   "source": [
    "1. Complete the code to select the first four rows and first five columns."
   ]
  },
  {
   "cell_type": "code",
   "execution_count": 2,
   "id": "b318baec",
   "metadata": {
    "deletable": false,
    "tags": [
     "cp1"
    ]
   },
   "outputs": [
    {
     "ename": "NameError",
     "evalue": "name 'vehicles' is not defined",
     "output_type": "error",
     "traceback": [
      "\u001b[0;31m---------------------------------------------------------------------------\u001b[0m",
      "\u001b[0;31mNameError\u001b[0m                                 Traceback (most recent call last)",
      "Cell \u001b[0;32mIn[2], line 2\u001b[0m\n\u001b[1;32m      1\u001b[0m \u001b[38;5;66;03m## YOUR SOLUTION HERE ##\u001b[39;00m\n\u001b[0;32m----> 2\u001b[0m sliced \u001b[38;5;241m=\u001b[39m \u001b[43mvehicles\u001b[49m\u001b[38;5;241m.\u001b[39miloc[\u001b[38;5;241m0\u001b[39m:\u001b[38;5;241m4\u001b[39m, \u001b[38;5;241m0\u001b[39m:\u001b[38;5;241m5\u001b[39m]\n\u001b[1;32m      4\u001b[0m \u001b[38;5;66;03m# show output\u001b[39;00m\n\u001b[1;32m      5\u001b[0m sliced\n",
      "\u001b[0;31mNameError\u001b[0m: name 'vehicles' is not defined"
     ]
    }
   ],
   "source": [
    "## YOUR SOLUTION HERE ##\n",
    "sliced = vehicles.iloc[0:4, 0:5]\n",
    "\n",
    "# show output\n",
    "sliced"
   ]
  },
  {
   "cell_type": "markdown",
   "id": "6a172e5e",
   "metadata": {},
   "source": [
    "2. Complete the code to select the `chevrolet` rows in the setup cell output along with the `vehicle_type`, `fuel`, and `fuel_configuration` columns."
   ]
  },
  {
   "cell_type": "code",
   "execution_count": 1,
   "id": "e73ed471",
   "metadata": {
    "deletable": false,
    "tags": [
     "cp2"
    ]
   },
   "outputs": [
    {
     "ename": "NameError",
     "evalue": "name 'vehicles' is not defined",
     "output_type": "error",
     "traceback": [
      "\u001b[0;31m---------------------------------------------------------------------------\u001b[0m",
      "\u001b[0;31mNameError\u001b[0m                                 Traceback (most recent call last)",
      "Cell \u001b[0;32mIn[1], line 2\u001b[0m\n\u001b[1;32m      1\u001b[0m \u001b[38;5;66;03m## YOUR SOLUTION HERE ##\u001b[39;00m\n\u001b[0;32m----> 2\u001b[0m chevy \u001b[38;5;241m=\u001b[39m \u001b[43mvehicles\u001b[49m\u001b[38;5;241m.\u001b[39mloc[\u001b[38;5;241m1\u001b[39m:\u001b[38;5;241m2\u001b[39m, \u001b[38;5;124m'\u001b[39m\u001b[38;5;124mvehicle_type\u001b[39m\u001b[38;5;124m'\u001b[39m:\u001b[38;5;124m'\u001b[39m\u001b[38;5;124mfuel_configuration\u001b[39m\u001b[38;5;124m'\u001b[39m]\n\u001b[1;32m      4\u001b[0m \u001b[38;5;66;03m# show output\u001b[39;00m\n\u001b[1;32m      5\u001b[0m chevy\n",
      "\u001b[0;31mNameError\u001b[0m: name 'vehicles' is not defined"
     ]
    }
   ],
   "source": [
    "## YOUR SOLUTION HERE ##\n",
    "chevy = vehicles.loc[1:2, 'vehicle_type':'fuel_configuration']\n",
    "\n",
    "# show output\n",
    "chevy"
   ]
  },
  {
   "cell_type": "markdown",
   "id": "8d481799",
   "metadata": {},
   "source": [
    "3. Complete the code to select all rows up to and including the 20th row, and all columns from `year` through to the end."
   ]
  },
  {
   "cell_type": "code",
   "execution_count": 4,
   "id": "4ddf801b",
   "metadata": {
    "deletable": false,
    "tags": [
     "cp3"
    ]
   },
   "outputs": [
    {
     "ename": "NameError",
     "evalue": "name 'vehicles' is not defined",
     "output_type": "error",
     "traceback": [
      "\u001b[0;31m---------------------------------------------------------------------------\u001b[0m",
      "\u001b[0;31mNameError\u001b[0m                                 Traceback (most recent call last)",
      "Cell \u001b[0;32mIn[4], line 2\u001b[0m\n\u001b[1;32m      1\u001b[0m \u001b[38;5;66;03m## YOUR SOLUTION HERE ##\u001b[39;00m\n\u001b[0;32m----> 2\u001b[0m large_slice \u001b[38;5;241m=\u001b[39m \u001b[43mvehicles\u001b[49m\u001b[38;5;241m.\u001b[39miloc[\u001b[38;5;241m0\u001b[39m:\u001b[38;5;241m20\u001b[39m, \u001b[38;5;241m2\u001b[39m:]\n\u001b[1;32m      4\u001b[0m \u001b[38;5;66;03m# show output\u001b[39;00m\n\u001b[1;32m      5\u001b[0m large_slice\n",
      "\u001b[0;31mNameError\u001b[0m: name 'vehicles' is not defined"
     ]
    }
   ],
   "source": [
    "## YOUR SOLUTION HERE ##\n",
    "large_slice = vehicles.iloc[0:20, 2:]\n",
    "\n",
    "# show output\n",
    "large_slice"
   ]
  },
  {
   "cell_type": "code",
   "execution_count": null,
   "id": "c4aa6b39",
   "metadata": {},
   "outputs": [],
   "source": []
  }
 ],
 "metadata": {
  "kernelspec": {
   "display_name": "Python 3 (ipykernel)",
   "language": "python",
   "name": "python3"
  },
  "language_info": {
   "codemirror_mode": {
    "name": "ipython",
    "version": 3
   },
   "file_extension": ".py",
   "mimetype": "text/x-python",
   "name": "python",
   "nbconvert_exporter": "python",
   "pygments_lexer": "ipython3",
   "version": "3.8.10"
  }
 },
 "nbformat": 4,
 "nbformat_minor": 5
}
