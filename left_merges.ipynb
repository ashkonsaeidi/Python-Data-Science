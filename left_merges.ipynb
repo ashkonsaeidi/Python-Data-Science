{
 "cells": [
  {
   "cell_type": "markdown",
   "id": "b66caf7d",
   "metadata": {},
   "source": [
    "<details><summary style=\"display:list-item; font-size:16px; color:blue;\">Jupyter Help</summary>\n",
    "    \n",
    "Having trouble testing your work? Double-check that you have followed the steps below to write, run, save, and test your code!\n",
    "    \n",
    "[Click here for a walkthrough GIF of the steps below](https://static-assets.codecademy.com/Courses/ds-python/jupyter-help.gif)\n",
    "\n",
    "Run all initial cells to import libraries and datasets. Then follow these steps for each question:\n",
    "    \n",
    "1. Add your solution to the cell with `## YOUR SOLUTION HERE ## `.\n",
    "2. Run the cell by selecting the `Run` button or the `Shift`+`Enter` keys.\n",
    "3. Save your work by selecting the `Save` button, the `command`+`s` keys (Mac), or `control`+`s` keys (Windows).\n",
    "4. Select the `Test Work` button at the bottom left to test your work.\n",
    "\n",
    "![Screenshot of the buttons at the top of a Jupyter Notebook. The Run and Save buttons are highlighted](https://static-assets.codecademy.com/Paths/ds-python/jupyter-buttons.png)"
   ]
  },
  {
   "cell_type": "markdown",
   "id": "4c609b12",
   "metadata": {},
   "source": [
    "#### Setup"
   ]
  },
  {
   "cell_type": "markdown",
   "id": "13284046",
   "metadata": {},
   "source": [
    "Start by running the cell below to import `pandas` and import the exercise datasets."
   ]
  },
  {
   "cell_type": "code",
   "execution_count": null,
   "id": "047d9dc9",
   "metadata": {
    "deletable": false,
    "tags": [
     "setup"
    ]
   },
   "outputs": [],
   "source": [
    "import pandas as pd\n",
    "games = pd.read_csv('games.csv')\n",
    "scores = pd.read_csv('scores.csv')\n",
    "locations = pd.read_csv('locations.csv')"
   ]
  },
  {
   "cell_type": "markdown",
   "id": "69a0d992",
   "metadata": {},
   "source": [
    "#### Narrative Examples"
   ]
  },
  {
   "cell_type": "markdown",
   "id": "962cc7c0",
   "metadata": {},
   "source": [
    "The cell below generates the example from the exercise narrative. Run the code to see how pandas performs the merge. Feel free to experiment with the different options!"
   ]
  },
  {
   "cell_type": "code",
   "execution_count": null,
   "id": "61d49f9d",
   "metadata": {},
   "outputs": [],
   "source": [
    "X = pd.DataFrame({'Category':['A','B'], 'Value':[1,2]})\n",
    "Y = pd.DataFrame({'Category':['B','C'], 'Value':[3,4]})\n",
    "\n",
    "pd.merge(left = X, right = Y, left_on = 'Category', right_on='Category', how='left')"
   ]
  },
  {
   "cell_type": "markdown",
   "id": "a0b13574",
   "metadata": {},
   "source": [
    "#### 1. Left Merge `games` and `scores`"
   ]
  },
  {
   "cell_type": "markdown",
   "id": "079e0e0c",
   "metadata": {},
   "source": [
    "Perform a left merge with `games` on the left and `scores` on the right. Use the columns `scores_id` and `id`. Assign the result to `merged_df`.\n",
    "\n",
    "Make sure to run the solution cell and save the notebook before selecting `Test Work`."
   ]
  },
  {
   "cell_type": "code",
   "execution_count": 4,
   "id": "b318baec",
   "metadata": {
    "deletable": false,
    "tags": [
     "cp1"
    ]
   },
   "outputs": [
    {
     "ename": "NameError",
     "evalue": "name 'pd' is not defined",
     "output_type": "error",
     "traceback": [
      "\u001b[0;31m---------------------------------------------------------------------------\u001b[0m",
      "\u001b[0;31mNameError\u001b[0m                                 Traceback (most recent call last)",
      "Cell \u001b[0;32mIn[4], line 2\u001b[0m\n\u001b[1;32m      1\u001b[0m \u001b[38;5;66;03m## YOUR SOLUTION HERE ##\u001b[39;00m\n\u001b[0;32m----> 2\u001b[0m merged_df \u001b[38;5;241m=\u001b[39m \u001b[43mpd\u001b[49m\u001b[38;5;241m.\u001b[39mmerge(left \u001b[38;5;241m=\u001b[39m games,\n\u001b[1;32m      3\u001b[0m                     right \u001b[38;5;241m=\u001b[39m scores,\n\u001b[1;32m      4\u001b[0m                     left_on \u001b[38;5;241m=\u001b[39m \u001b[38;5;124m'\u001b[39m\u001b[38;5;124mscores_id\u001b[39m\u001b[38;5;124m'\u001b[39m,\n\u001b[1;32m      5\u001b[0m                     right_on \u001b[38;5;241m=\u001b[39m \u001b[38;5;124m'\u001b[39m\u001b[38;5;124mid\u001b[39m\u001b[38;5;124m'\u001b[39m,\n\u001b[1;32m      6\u001b[0m                     how \u001b[38;5;241m=\u001b[39m \u001b[38;5;124m'\u001b[39m\u001b[38;5;124mleft\u001b[39m\u001b[38;5;124m'\u001b[39m)\n\u001b[1;32m      7\u001b[0m \u001b[38;5;66;03m# show output\u001b[39;00m\n\u001b[1;32m      8\u001b[0m merged_df\u001b[38;5;241m.\u001b[39mhead()\n",
      "\u001b[0;31mNameError\u001b[0m: name 'pd' is not defined"
     ]
    }
   ],
   "source": [
    "## YOUR SOLUTION HERE ##\n",
    "merged_df = pd.merge(left = games,\n",
    "                    right = scores,\n",
    "                    left_on = 'scores_id',\n",
    "                    right_on = 'id',\n",
    "                    how = 'left')\n",
    "# show output\n",
    "merged_df.head()"
   ]
  },
  {
   "cell_type": "markdown",
   "id": "ac2529f9",
   "metadata": {},
   "source": [
    "#### 2. Post-merge Analysis "
   ]
  },
  {
   "cell_type": "markdown",
   "id": "6a172e5e",
   "metadata": {},
   "source": [
    "In the cell below, we've filtered `merged_df` using the Series method `.isna()`. This method detects null/NaN values. Run the cell -- are there any games that are missing score values?"
   ]
  },
  {
   "cell_type": "code",
   "execution_count": 1,
   "id": "e73ed471",
   "metadata": {
    "deletable": false,
    "tags": [
     "cp2"
    ]
   },
   "outputs": [
    {
     "ename": "NameError",
     "evalue": "name 'merged_df' is not defined",
     "output_type": "error",
     "traceback": [
      "\u001b[0;31m---------------------------------------------------------------------------\u001b[0m",
      "\u001b[0;31mNameError\u001b[0m                                 Traceback (most recent call last)",
      "Cell \u001b[0;32mIn[1], line 2\u001b[0m\n\u001b[1;32m      1\u001b[0m \u001b[38;5;66;03m## YOUR SOLUTION HERE ##\u001b[39;00m\n\u001b[0;32m----> 2\u001b[0m \u001b[43mmerged_df\u001b[49m[merged_df[\u001b[38;5;124m'\u001b[39m\u001b[38;5;124mhome_score\u001b[39m\u001b[38;5;124m'\u001b[39m]\u001b[38;5;241m.\u001b[39misna()]\n",
      "\u001b[0;31mNameError\u001b[0m: name 'merged_df' is not defined"
     ]
    }
   ],
   "source": [
    "## YOUR SOLUTION HERE ##\n",
    "merged_df[merged_df['home_score'].isna()]"
   ]
  },
  {
   "cell_type": "markdown",
   "id": "09c30e43",
   "metadata": {},
   "source": [
    "#### 3. Comparison with Inner Merge"
   ]
  },
  {
   "cell_type": "markdown",
   "id": "8d481799",
   "metadata": {},
   "source": [
    "Perform the same merge as in Checkpoint 1, but using `how = 'inner'`. We've included the code to find games with missing score data. What's different about the inner merge output?"
   ]
  },
  {
   "cell_type": "code",
   "execution_count": 2,
   "id": "4ddf801b",
   "metadata": {
    "deletable": false,
    "tags": [
     "cp3"
    ]
   },
   "outputs": [
    {
     "ename": "NameError",
     "evalue": "name 'pd' is not defined",
     "output_type": "error",
     "traceback": [
      "\u001b[0;31m---------------------------------------------------------------------------\u001b[0m",
      "\u001b[0;31mNameError\u001b[0m                                 Traceback (most recent call last)",
      "Cell \u001b[0;32mIn[2], line 2\u001b[0m\n\u001b[1;32m      1\u001b[0m \u001b[38;5;66;03m## YOUR SOLUTION HERE ##\u001b[39;00m\n\u001b[0;32m----> 2\u001b[0m merged_df \u001b[38;5;241m=\u001b[39m \u001b[43mpd\u001b[49m\u001b[38;5;241m.\u001b[39mmerge(left \u001b[38;5;241m=\u001b[39m games,\n\u001b[1;32m      3\u001b[0m                     right \u001b[38;5;241m=\u001b[39m scores,\n\u001b[1;32m      4\u001b[0m                     left_on \u001b[38;5;241m=\u001b[39m \u001b[38;5;124m'\u001b[39m\u001b[38;5;124mscores_id\u001b[39m\u001b[38;5;124m'\u001b[39m,\n\u001b[1;32m      5\u001b[0m                     right_on \u001b[38;5;241m=\u001b[39m \u001b[38;5;124m'\u001b[39m\u001b[38;5;124mid\u001b[39m\u001b[38;5;124m'\u001b[39m,\n\u001b[1;32m      6\u001b[0m                     how \u001b[38;5;241m=\u001b[39m \u001b[38;5;124m'\u001b[39m\u001b[38;5;124minner\u001b[39m\u001b[38;5;124m'\u001b[39m)\n\u001b[1;32m      8\u001b[0m \u001b[38;5;66;03m# show output\u001b[39;00m\n\u001b[1;32m      9\u001b[0m merged_df[merged_df[\u001b[38;5;124m'\u001b[39m\u001b[38;5;124mhome_score\u001b[39m\u001b[38;5;124m'\u001b[39m]\u001b[38;5;241m.\u001b[39misna()]\n",
      "\u001b[0;31mNameError\u001b[0m: name 'pd' is not defined"
     ]
    }
   ],
   "source": [
    "## YOUR SOLUTION HERE ##\n",
    "merged_df = pd.merge(left = games,\n",
    "                    right = scores,\n",
    "                    left_on = 'scores_id',\n",
    "                    right_on = 'id',\n",
    "                    how = 'inner')\n",
    "\n",
    "# show output\n",
    "merged_df[merged_df['home_score'].isna()]"
   ]
  },
  {
   "cell_type": "code",
   "execution_count": null,
   "id": "977c7a3a",
   "metadata": {},
   "outputs": [],
   "source": []
  }
 ],
 "metadata": {
  "kernelspec": {
   "display_name": "Python 3 (ipykernel)",
   "language": "python",
   "name": "python3"
  },
  "language_info": {
   "codemirror_mode": {
    "name": "ipython",
    "version": 3
   },
   "file_extension": ".py",
   "mimetype": "text/x-python",
   "name": "python",
   "nbconvert_exporter": "python",
   "pygments_lexer": "ipython3",
   "version": "3.8.10"
  }
 },
 "nbformat": 4,
 "nbformat_minor": 5
}
